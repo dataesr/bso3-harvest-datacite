{
 "cells": [
  {
   "cell_type": "markdown",
   "metadata": {},
   "source": [
    "# Documentation of the requests for the bso3-harvest-datacite application"
   ]
  },
  {
   "cell_type": "code",
   "execution_count": 2,
   "metadata": {},
   "outputs": [],
   "source": [
    "import requests\n",
    "\n",
    "payload = {}\n",
    "# base_url = \"http://127.0.0.1:5004/\"\n",
    "base_url = \"http://datacite.bso3.dataesr.ovh/\"\n",
    "harvest_endpoint = \"harvest_dois\"\n",
    "process_endpoint = \"process\"\n",
    "affiliations_endpoint = \"affiliations\"\n",
    "consolidate_affiliation_endpoint = \"consolidate_affiliations_files\"\n",
    "enrichment_endpoint = \"enrich_dois\"\n",
    "es_index_endpoint = \"create_index\"\n",
    "\n",
    "harvest_url = base_url + harvest_endpoint\n",
    "process_url = base_url + process_endpoint\n",
    "affiliations_url = base_url + affiliations_endpoint\n",
    "consolidate_affiliation_url = base_url + consolidate_affiliation_endpoint\n",
    "enrichment_url = base_url + enrichment_endpoint\n",
    "es_index_url = base_url + es_index_endpoint\n",
    "headers = {\"Content-Type\": \"application/json\"}"
   ]
  },
  {
   "cell_type": "code",
   "execution_count": 2,
   "metadata": {},
   "outputs": [],
   "source": [
    "date_prefix = \"20221021\"\n",
    "date_prefix = \"20230413\""
   ]
  },
  {
   "cell_type": "markdown",
   "metadata": {},
   "source": [
    "## Harvest request\n",
    ">Harvest the datacite API data via [dcdump](https://github.com/miku/dcdump)"
   ]
  },
  {
   "cell_type": "code",
   "execution_count": 4,
   "metadata": {},
   "outputs": [
    {
     "data": {
      "text/plain": [
       "<Response [202]>"
      ]
     },
     "execution_count": 4,
     "metadata": {},
     "output_type": "execute_result"
    }
   ],
   "source": [
    "harvest_payload = {\n",
    "#    \"target_directory\": , # optional, default: RAW_DUMP_FOLDER_NAME (env)\n",
    "#    \"start_date\": , # optional, default: DEFAULT_START_DATE (\"2018-01-01\")\n",
    "#    \"end_date\": , # optional, default: current date\n",
    "#    \"interval\": , # optional, default: day\n",
    "#    \"use_threads\" : , # optional, default: False\n",
    "#    \"force\" # optional, default: True\n",
    "}\n",
    "requests.post(harvest_url, headers=headers, json=harvest_payload)"
   ]
  },
  {
   "cell_type": "markdown",
   "metadata": {},
   "source": [
    "## Process request\n",
    ">Extraction of the info to submit to the affiliation matcher service from harvested datacite files"
   ]
  },
  {
   "cell_type": "code",
   "execution_count": null,
   "metadata": {},
   "outputs": [],
   "source": [
    "process_payload = {\n",
    "    \"total_number_of_partitions\": 100, # optional, default: 100 \n",
    "    \"file_prefix\": date_prefix\n",
    "}\n",
    "requests.post(process_url, headers=headers, json=process_payload)"
   ]
  },
  {
   "cell_type": "markdown",
   "metadata": {},
   "source": [
    "## Affiliation request\n",
    ">Get affiliations via Affiliation Matcher for the data extracted during the process task"
   ]
  },
  {
   "cell_type": "code",
   "execution_count": 3,
   "metadata": {},
   "outputs": [
    {
     "data": {
      "text/plain": [
       "<Response [202]>"
      ]
     },
     "execution_count": 3,
     "metadata": {},
     "output_type": "execute_result"
    }
   ],
   "source": [
    "affiliations_payload = {\n",
    "    \"number_of_partitions\": 100, # optional, default: 100\n",
    "    \"file_prefix\": date_prefix\n",
    "}\n",
    "requests.post(affiliations_url, headers=headers, json=affiliations_payload)"
   ]
  },
  {
   "cell_type": "markdown",
   "metadata": {},
   "source": [
    "## Enrichment request\n",
    ">Take raw dcdump files and write a file for each doi containing affiliations informations. Upload them to OVH object storage, in the datacite bucket under /dois (all files) and /fr (copy of doi files containing fr affiliations). Prepare the Elastic search index source file."
   ]
  },
  {
   "cell_type": "code",
   "execution_count": 3,
   "metadata": {},
   "outputs": [
    {
     "data": {
      "text/plain": [
       "<Response [202]>"
      ]
     },
     "execution_count": 3,
     "metadata": {},
     "output_type": "execute_result"
    }
   ],
   "source": [
    "index_name = f\"bso3-datacite-{date_prefix}\"\n",
    "enrichment_payload = {\n",
    "    # 1650 files\n",
    "    \"partition_size\": 10, # optional, default: 10 \n",
    "    \"index_name\": index_name\n",
    "    # Cannot be much larger because of the memory\n",
    "}\n",
    "requests.post(enrichment_url, headers=headers, json=enrichment_payload)"
   ]
  },
  {
   "cell_type": "markdown",
   "metadata": {},
   "source": [
    "## Create index ES request\n",
    ">Run elasticdump against the Elastic Search index source file."
   ]
  },
  {
   "cell_type": "code",
   "execution_count": 3,
   "metadata": {},
   "outputs": [
    {
     "data": {
      "text/plain": [
       "<Response [202]>"
      ]
     },
     "execution_count": 3,
     "metadata": {},
     "output_type": "execute_result"
    }
   ],
   "source": [
    "es_index_payload = {\n",
    "    \"index_name\": index_name\n",
    "}\n",
    "requests.post(es_index_url, headers=headers, json=es_index_payload)"
   ]
  },
  {
   "cell_type": "code",
   "execution_count": null,
   "metadata": {},
   "outputs": [],
   "source": []
  }
 ],
 "metadata": {
  "kernelspec": {
   "display_name": "Python 3",
   "language": "python",
   "name": "python3"
  },
  "language_info": {
   "codemirror_mode": {
    "name": "ipython",
    "version": 3
   },
   "file_extension": ".py",
   "mimetype": "text/x-python",
   "name": "python",
   "nbconvert_exporter": "python",
   "pygments_lexer": "ipython3",
   "version": "3.9.1"
  },
  "vscode": {
   "interpreter": {
    "hash": "31525128ea8b8ba67a359f8e8d43d8a505ff95cf5b792e0bb8c706375f6fc025"
   }
  },
  "widgets": {
   "application/vnd.jupyter.widget-state+json": {
    "state": {},
    "version_major": 2,
    "version_minor": 0
   }
  }
 },
 "nbformat": 4,
 "nbformat_minor": 2
}
